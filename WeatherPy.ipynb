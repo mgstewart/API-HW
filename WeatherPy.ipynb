{
 "cells": [
  {
   "cell_type": "markdown",
   "metadata": {},
   "source": [
    "# WeatherPy"
   ]
  },
  {
   "cell_type": "markdown",
   "metadata": {},
   "source": [
    "## Analysis\n",
    "* Observed Trend 1\n",
    "* Observed Trend 2\n",
    "* Observed Trend 3"
   ]
  },
  {
   "cell_type": "code",
   "execution_count": 23,
   "metadata": {},
   "outputs": [
    {
     "name": "stdout",
     "output_type": "stream",
     "text": [
      "<class 'pandas.core.frame.DataFrame'>\n",
      "RangeIndex: 3173958 entries, 0 to 3173957\n",
      "Data columns (total 7 columns):\n",
      "Country       object\n",
      "City          object\n",
      "AccentCity    object\n",
      "Region        object\n",
      "Population    object\n",
      "Latitude      object\n",
      "Longitude     object\n",
      "dtypes: object(7)\n",
      "memory usage: 169.5+ MB\n",
      "None\n",
      "<class 'pandas.core.frame.DataFrame'>\n",
      "RangeIndex: 2243854 entries, 0 to 2243853\n",
      "Data columns (total 5 columns):\n",
      "index        int64\n",
      "Country      object\n",
      "City         object\n",
      "Latitude     object\n",
      "Longitude    object\n",
      "dtypes: int64(1), object(4)\n",
      "memory usage: 85.6+ MB\n",
      "None\n"
     ]
    }
   ],
   "source": [
    "from citipy import citipy\n",
    "import openweathermapy as owm\n",
    "import pandas as pd\n",
    "import matplotlib.pyplot as plt\n",
    "import requests\n",
    "import random\n",
    "#Import list of cities\n",
    "citydf = pd.read_csv('worldcitiespop.txt',encoding='utf-8',low_memory=False,dtype=str)\n",
    "print(citydf.info())\n",
    "#Remove unused columns and deduplicate on lat & lng\n",
    "# Deduplicating removes ~30% of cities but retains\n",
    "# some duplicates with near lat-long, although sampling from\n",
    "# 2.2E6 should make the effect on trend data minimal\n",
    "citydf = citydf.drop(columns=['AccentCity','Region','Population'])\n",
    "citydf = citydf.drop_duplicates(subset=['Latitude','Longitude'],keep='first')\n",
    "citydf = citydf.reset_index()\n",
    "print(citydf.info())"
   ]
  },
  {
   "cell_type": "code",
   "execution_count": 24,
   "metadata": {},
   "outputs": [
    {
     "data": {
      "text/html": [
       "<div>\n",
       "<style scoped>\n",
       "    .dataframe tbody tr th:only-of-type {\n",
       "        vertical-align: middle;\n",
       "    }\n",
       "\n",
       "    .dataframe tbody tr th {\n",
       "        vertical-align: top;\n",
       "    }\n",
       "\n",
       "    .dataframe thead th {\n",
       "        text-align: right;\n",
       "    }\n",
       "</style>\n",
       "<table border=\"1\" class=\"dataframe\">\n",
       "  <thead>\n",
       "    <tr style=\"text-align: right;\">\n",
       "      <th></th>\n",
       "      <th>index</th>\n",
       "      <th>Country</th>\n",
       "      <th>City</th>\n",
       "      <th>Latitude</th>\n",
       "      <th>Longitude</th>\n",
       "    </tr>\n",
       "  </thead>\n",
       "  <tbody>\n",
       "    <tr>\n",
       "      <th>2243849</th>\n",
       "      <td>3173951</td>\n",
       "      <td>zw</td>\n",
       "      <td>zikamanas village</td>\n",
       "      <td>-18.2166667</td>\n",
       "      <td>27.95</td>\n",
       "    </tr>\n",
       "    <tr>\n",
       "      <th>2243850</th>\n",
       "      <td>3173952</td>\n",
       "      <td>zw</td>\n",
       "      <td>zimbabwe</td>\n",
       "      <td>-20.2666667</td>\n",
       "      <td>30.9166667</td>\n",
       "    </tr>\n",
       "    <tr>\n",
       "      <th>2243851</th>\n",
       "      <td>3173953</td>\n",
       "      <td>zw</td>\n",
       "      <td>zimre park</td>\n",
       "      <td>-17.8661111</td>\n",
       "      <td>31.2136111</td>\n",
       "    </tr>\n",
       "    <tr>\n",
       "      <th>2243852</th>\n",
       "      <td>3173955</td>\n",
       "      <td>zw</td>\n",
       "      <td>zizalisari</td>\n",
       "      <td>-17.7588889</td>\n",
       "      <td>31.0105556</td>\n",
       "    </tr>\n",
       "    <tr>\n",
       "      <th>2243853</th>\n",
       "      <td>3173956</td>\n",
       "      <td>zw</td>\n",
       "      <td>zuzumba</td>\n",
       "      <td>-20.0333333</td>\n",
       "      <td>27.9333333</td>\n",
       "    </tr>\n",
       "  </tbody>\n",
       "</table>\n",
       "</div>"
      ],
      "text/plain": [
       "           index Country               City     Latitude   Longitude\n",
       "2243849  3173951      zw  zikamanas village  -18.2166667       27.95\n",
       "2243850  3173952      zw           zimbabwe  -20.2666667  30.9166667\n",
       "2243851  3173953      zw         zimre park  -17.8661111  31.2136111\n",
       "2243852  3173955      zw         zizalisari  -17.7588889  31.0105556\n",
       "2243853  3173956      zw            zuzumba  -20.0333333  27.9333333"
      ]
     },
     "execution_count": 24,
     "metadata": {},
     "output_type": "execute_result"
    }
   ],
   "source": [
    "#Build cities data frame by using pandas sample method\n",
    "# initial testing will use 50 for expedited \n",
    "cities = "
   ]
  },
  {
   "cell_type": "code",
   "execution_count": null,
   "metadata": {},
   "outputs": [],
   "source": []
  }
 ],
 "metadata": {
  "kernelspec": {
   "display_name": "Python 3",
   "language": "python",
   "name": "python3"
  },
  "language_info": {
   "codemirror_mode": {
    "name": "ipython",
    "version": 3
   },
   "file_extension": ".py",
   "mimetype": "text/x-python",
   "name": "python",
   "nbconvert_exporter": "python",
   "pygments_lexer": "ipython3",
   "version": "3.6.4"
  }
 },
 "nbformat": 4,
 "nbformat_minor": 2
}
