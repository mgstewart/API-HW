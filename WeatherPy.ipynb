{
 "cells": [
  {
   "cell_type": "markdown",
   "metadata": {},
   "source": [
    "# WeatherPy"
   ]
  },
  {
   "cell_type": "markdown",
   "metadata": {},
   "source": [
    "## Analysis\n",
    "* Observed Trend 1\n",
    "* Observed Trend 2\n",
    "* Observed Trend 3"
   ]
  },
  {
   "cell_type": "code",
   "execution_count": 1,
   "metadata": {},
   "outputs": [
    {
     "name": "stdout",
     "output_type": "stream",
     "text": [
      "<class 'pandas.core.frame.DataFrame'>\n",
      "RangeIndex: 3173958 entries, 0 to 3173957\n",
      "Data columns (total 7 columns):\n",
      "Country       object\n",
      "City          object\n",
      "AccentCity    object\n",
      "Region        object\n",
      "Population    object\n",
      "Latitude      object\n",
      "Longitude     object\n",
      "dtypes: object(7)\n",
      "memory usage: 169.5+ MB\n",
      "None\n",
      "<class 'pandas.core.frame.DataFrame'>\n",
      "RangeIndex: 2243854 entries, 0 to 2243853\n",
      "Data columns (total 5 columns):\n",
      "index        int64\n",
      "Country      object\n",
      "City         object\n",
      "Latitude     object\n",
      "Longitude    object\n",
      "dtypes: int64(1), object(4)\n",
      "memory usage: 85.6+ MB\n",
      "None\n"
     ]
    }
   ],
   "source": [
    "import openweathermapy as owm\n",
    "import pandas as pd\n",
    "import matplotlib.pyplot as plt\n",
    "import requests\n",
    "import random\n",
    "from config import api_key\n",
    "import seaborn as sns\n",
    "#Import list of cities\n",
    "citydf = pd.read_csv('worldcitiespop.txt',encoding='utf-8',low_memory=False,dtype=str)\n",
    "print(citydf.info())\n",
    "#Remove unused columns and deduplicate on lat & lng\n",
    "# Deduplicating removes ~30% of cities but retains\n",
    "# some duplicates with near lat-long, although sampling from\n",
    "# 2.2E6 should make the effect on trend data minimal\n",
    "citydf = citydf.drop(columns=['AccentCity','Region','Population'])\n",
    "citydf = citydf.drop_duplicates(subset=['Latitude','Longitude'],keep='first')\n",
    "citydf = citydf.reset_index()\n",
    "print(citydf.info())"
   ]
  },
  {
   "cell_type": "markdown",
   "metadata": {},
   "source": [
    "## Define parameters for querying"
   ]
  },
  {
   "cell_type": "code",
   "execution_count": 2,
   "metadata": {},
   "outputs": [],
   "source": [
    "settings = {'units':'imperial','APPID':api_key}"
   ]
  },
  {
   "cell_type": "code",
   "execution_count": 3,
   "metadata": {},
   "outputs": [],
   "source": [
    "#Build cities data frame by using pandas sample method\n",
    "# initial testing will use 50 for expedited \n",
    "cities = citydf.sample(50)\n",
    "#Add columns for max temp to working dataframe\n",
    "cities['Max Temp'] = ''\n",
    "cities['Cloudiness'] = ''\n",
    "cities['Wind Speed'] = ''\n",
    "cities['Humidity'] = ''"
   ]
  },
  {
   "cell_type": "code",
   "execution_count": 4,
   "metadata": {},
   "outputs": [
    {
     "name": "stdout",
     "output_type": "stream",
     "text": [
      "Retrieval of OWM data is finished.\n"
     ]
    }
   ],
   "source": [
    "#Iterate over each row of the dataframe, pulling API data into lists\n",
    "# both pandas documentation and stackoverflow caution against trying\n",
    "# to append/modify a dataframe being iterated over\n",
    "list_of_max_temps = []\n",
    "list_of_cloud = []\n",
    "list_of_wind = []\n",
    "list_of_humidity = []\n",
    "for row, index in cities.iterrows():\n",
    "    lat = index['Latitude']\n",
    "    lng = index['Longitude']\n",
    "    location = (lat, lng)\n",
    "    try:\n",
    "        data = owm.get_current(location,**settings)\n",
    "        list_of_max_temps.append(data(\"main.temp_max\"))\n",
    "        list_of_cloud.append(data(\"clouds.all\"))\n",
    "        list_of_wind.append(data(\"wind.speed\"))\n",
    "        list_of_humidity.append(data(\"main.humidity\"))\n",
    "    except:\n",
    "        raise print(\"Whoops! Something went wrong, check your lat/long coordinates!\")\n",
    "print('Retrieval of OWM data is finished.')"
   ]
  },
  {
   "cell_type": "code",
   "execution_count": 5,
   "metadata": {},
   "outputs": [],
   "source": [
    "#Add the lists of data into the data frame\n",
    "cities['Max Temp'] = list_of_max_temps\n",
    "cities['Cloudiness'] = list_of_cloud\n",
    "cities['Wind Speed'] = list_of_wind\n",
    "cities['Humidity'] = list_of_humidity"
   ]
  },
  {
   "cell_type": "code",
   "execution_count": 6,
   "metadata": {},
   "outputs": [
    {
     "data": {
      "text/html": [
       "<div>\n",
       "<style scoped>\n",
       "    .dataframe tbody tr th:only-of-type {\n",
       "        vertical-align: middle;\n",
       "    }\n",
       "\n",
       "    .dataframe tbody tr th {\n",
       "        vertical-align: top;\n",
       "    }\n",
       "\n",
       "    .dataframe thead th {\n",
       "        text-align: right;\n",
       "    }\n",
       "</style>\n",
       "<table border=\"1\" class=\"dataframe\">\n",
       "  <thead>\n",
       "    <tr style=\"text-align: right;\">\n",
       "      <th></th>\n",
       "      <th>index</th>\n",
       "      <th>Country</th>\n",
       "      <th>City</th>\n",
       "      <th>Latitude</th>\n",
       "      <th>Longitude</th>\n",
       "      <th>Max Temp</th>\n",
       "      <th>Cloudiness</th>\n",
       "      <th>Wind Speed</th>\n",
       "      <th>Humidity</th>\n",
       "    </tr>\n",
       "  </thead>\n",
       "  <tbody>\n",
       "    <tr>\n",
       "      <th>530682</th>\n",
       "      <td>782840</td>\n",
       "      <td>de</td>\n",
       "      <td>sudheim</td>\n",
       "      <td>51.666667</td>\n",
       "      <td>9.983333</td>\n",
       "      <td>69.80</td>\n",
       "      <td>0</td>\n",
       "      <td>9.17</td>\n",
       "      <td>46</td>\n",
       "    </tr>\n",
       "    <tr>\n",
       "      <th>1662161</th>\n",
       "      <td>2389597</td>\n",
       "      <td>ru</td>\n",
       "      <td>dedilovskiye vyselki</td>\n",
       "      <td>54.331021</td>\n",
       "      <td>38.040244</td>\n",
       "      <td>63.09</td>\n",
       "      <td>8</td>\n",
       "      <td>3.53</td>\n",
       "      <td>65</td>\n",
       "    </tr>\n",
       "    <tr>\n",
       "      <th>814768</th>\n",
       "      <td>1187871</td>\n",
       "      <td>id</td>\n",
       "      <td>jarkali</td>\n",
       "      <td>-6.911</td>\n",
       "      <td>112.068</td>\n",
       "      <td>73.26</td>\n",
       "      <td>32</td>\n",
       "      <td>2.75</td>\n",
       "      <td>94</td>\n",
       "    </tr>\n",
       "    <tr>\n",
       "      <th>1196721</th>\n",
       "      <td>1778044</td>\n",
       "      <td>mg</td>\n",
       "      <td>ampienenana</td>\n",
       "      <td>-21.7</td>\n",
       "      <td>47.2666667</td>\n",
       "      <td>62.55</td>\n",
       "      <td>80</td>\n",
       "      <td>3.76</td>\n",
       "      <td>99</td>\n",
       "    </tr>\n",
       "    <tr>\n",
       "      <th>1015555</th>\n",
       "      <td>1467287</td>\n",
       "      <td>ir</td>\n",
       "      <td>qalatak</td>\n",
       "      <td>29.972567</td>\n",
       "      <td>51.784513</td>\n",
       "      <td>63.72</td>\n",
       "      <td>0</td>\n",
       "      <td>3.42</td>\n",
       "      <td>48</td>\n",
       "    </tr>\n",
       "  </tbody>\n",
       "</table>\n",
       "</div>"
      ],
      "text/plain": [
       "           index Country                  City   Latitude   Longitude  \\\n",
       "530682    782840      de               sudheim  51.666667    9.983333   \n",
       "1662161  2389597      ru  dedilovskiye vyselki  54.331021   38.040244   \n",
       "814768   1187871      id               jarkali     -6.911     112.068   \n",
       "1196721  1778044      mg           ampienenana      -21.7  47.2666667   \n",
       "1015555  1467287      ir               qalatak  29.972567   51.784513   \n",
       "\n",
       "         Max Temp  Cloudiness  Wind Speed  Humidity  \n",
       "530682      69.80           0        9.17        46  \n",
       "1662161     63.09           8        3.53        65  \n",
       "814768      73.26          32        2.75        94  \n",
       "1196721     62.55          80        3.76        99  \n",
       "1015555     63.72           0        3.42        48  "
      ]
     },
     "execution_count": 6,
     "metadata": {},
     "output_type": "execute_result"
    }
   ],
   "source": [
    "cities.head()"
   ]
  },
  {
   "cell_type": "code",
   "execution_count": 7,
   "metadata": {},
   "outputs": [
    {
     "data": {
      "text/html": [
       "<div>\n",
       "<style scoped>\n",
       "    .dataframe tbody tr th:only-of-type {\n",
       "        vertical-align: middle;\n",
       "    }\n",
       "\n",
       "    .dataframe tbody tr th {\n",
       "        vertical-align: top;\n",
       "    }\n",
       "\n",
       "    .dataframe thead th {\n",
       "        text-align: right;\n",
       "    }\n",
       "</style>\n",
       "<table border=\"1\" class=\"dataframe\">\n",
       "  <thead>\n",
       "    <tr style=\"text-align: right;\">\n",
       "      <th></th>\n",
       "      <th>index</th>\n",
       "      <th>Country</th>\n",
       "      <th>City</th>\n",
       "      <th>Latitude</th>\n",
       "      <th>Longitude</th>\n",
       "      <th>Max Temp</th>\n",
       "      <th>Cloudiness</th>\n",
       "      <th>Wind Speed</th>\n",
       "      <th>Humidity</th>\n",
       "      <th>Latitude(Abs)</th>\n",
       "    </tr>\n",
       "  </thead>\n",
       "  <tbody>\n",
       "    <tr>\n",
       "      <th>530682</th>\n",
       "      <td>782840</td>\n",
       "      <td>de</td>\n",
       "      <td>sudheim</td>\n",
       "      <td>51.666667</td>\n",
       "      <td>9.983333</td>\n",
       "      <td>69.80</td>\n",
       "      <td>0</td>\n",
       "      <td>9.17</td>\n",
       "      <td>46</td>\n",
       "      <td>51.666667</td>\n",
       "    </tr>\n",
       "    <tr>\n",
       "      <th>1662161</th>\n",
       "      <td>2389597</td>\n",
       "      <td>ru</td>\n",
       "      <td>dedilovskiye vyselki</td>\n",
       "      <td>54.331021</td>\n",
       "      <td>38.040244</td>\n",
       "      <td>63.09</td>\n",
       "      <td>8</td>\n",
       "      <td>3.53</td>\n",
       "      <td>65</td>\n",
       "      <td>54.331021</td>\n",
       "    </tr>\n",
       "    <tr>\n",
       "      <th>814768</th>\n",
       "      <td>1187871</td>\n",
       "      <td>id</td>\n",
       "      <td>jarkali</td>\n",
       "      <td>-6.911000</td>\n",
       "      <td>112.068</td>\n",
       "      <td>73.26</td>\n",
       "      <td>32</td>\n",
       "      <td>2.75</td>\n",
       "      <td>94</td>\n",
       "      <td>6.911000</td>\n",
       "    </tr>\n",
       "    <tr>\n",
       "      <th>1196721</th>\n",
       "      <td>1778044</td>\n",
       "      <td>mg</td>\n",
       "      <td>ampienenana</td>\n",
       "      <td>-21.700000</td>\n",
       "      <td>47.2666667</td>\n",
       "      <td>62.55</td>\n",
       "      <td>80</td>\n",
       "      <td>3.76</td>\n",
       "      <td>99</td>\n",
       "      <td>21.700000</td>\n",
       "    </tr>\n",
       "    <tr>\n",
       "      <th>1015555</th>\n",
       "      <td>1467287</td>\n",
       "      <td>ir</td>\n",
       "      <td>qalatak</td>\n",
       "      <td>29.972567</td>\n",
       "      <td>51.784513</td>\n",
       "      <td>63.72</td>\n",
       "      <td>0</td>\n",
       "      <td>3.42</td>\n",
       "      <td>48</td>\n",
       "      <td>29.972567</td>\n",
       "    </tr>\n",
       "  </tbody>\n",
       "</table>\n",
       "</div>"
      ],
      "text/plain": [
       "           index Country                  City   Latitude   Longitude  \\\n",
       "530682    782840      de               sudheim  51.666667    9.983333   \n",
       "1662161  2389597      ru  dedilovskiye vyselki  54.331021   38.040244   \n",
       "814768   1187871      id               jarkali  -6.911000     112.068   \n",
       "1196721  1778044      mg           ampienenana -21.700000  47.2666667   \n",
       "1015555  1467287      ir               qalatak  29.972567   51.784513   \n",
       "\n",
       "         Max Temp  Cloudiness  Wind Speed  Humidity  Latitude(Abs)  \n",
       "530682      69.80           0        9.17        46      51.666667  \n",
       "1662161     63.09           8        3.53        65      54.331021  \n",
       "814768      73.26          32        2.75        94       6.911000  \n",
       "1196721     62.55          80        3.76        99      21.700000  \n",
       "1015555     63.72           0        3.42        48      29.972567  "
      ]
     },
     "execution_count": 7,
     "metadata": {},
     "output_type": "execute_result"
    }
   ],
   "source": [
    "#Transform Lat values in DF into absolute values now that parsing is done\n",
    "# note the values were imported as strings to make querying easily\n",
    "cities['Latitude'] = pd.to_numeric(cities['Latitude'],errors='raise')\n",
    "cities['Latitude(Abs)'] = abs(cities['Latitude'])\n",
    "cities.head()"
   ]
  },
  {
   "cell_type": "code",
   "execution_count": 8,
   "metadata": {},
   "outputs": [
    {
     "data": {
      "text/plain": [
       "[Text(0,0.5,'Max Temp (F)'),\n",
       " Text(0.5,0,'Degrees Latitude'),\n",
       " Text(0.5,1,'Max Temp(F) of random cities vs. Latitude')]"
      ]
     },
     "execution_count": 8,
     "metadata": {},
     "output_type": "execute_result"
    },
    {
     "data": {
      "image/png": "[encoded data removed]",
      "text/plain": [
       "<Figure size 432x288 with 1 Axes>"
      ]
     },
     "metadata": {},
     "output_type": "display_data"
    }
   ],
   "source": [
    "sns.set_style('darkgrid')\n",
    "temp_ax = sns.regplot(x=cities['Latitude'],y=cities['Max Temp'],fit_reg=False)\n",
    "temp_ax.set(xlabel='Degrees Latitude',ylabel='Max Temp (F)',title='Max Temp(F) of random cities vs. Latitude')"
   ]
  },
  {
   "cell_type": "code",
   "execution_count": 9,
   "metadata": {},
   "outputs": [
    {
     "data": {
      "text/plain": [
       "[Text(0,0.5,'Max Temp (F)'),\n",
       " Text(0.5,0,'Degrees Lat. from Equator'),\n",
       " Text(0.5,1,'Max Temp(F) of random cities vs. Lat. from Equator')]"
      ]
     },
     "execution_count": 9,
     "metadata": {},
     "output_type": "execute_result"
    },
    {
     "data": {
      "image/png": "[encoded data removed]",
      "text/plain": [
       "<Figure size 432x288 with 1 Axes>"
      ]
     },
     "metadata": {},
     "output_type": "display_data"
    }
   ],
   "source": [
    "abs_temp_ax = sns.regplot(x=cities['Latitude(Abs)'],y=cities['Max Temp'])\n",
    "abs_temp_ax.set(xlabel='Degrees Lat. from Equator',ylabel='Max Temp (F)',title='Max Temp(F) of random cities vs. Lat. from Equator')"
   ]
  },
  {
   "cell_type": "code",
   "execution_count": 10,
   "metadata": {},
   "outputs": [
    {
     "data": {
      "text/plain": [
       "<matplotlib.axes._subplots.AxesSubplot at 0x1a31af6b00>"
      ]
     },
     "execution_count": 10,
     "metadata": {},
     "output_type": "execute_result"
    },
    {
     "data": {
      "image/png": "[encoded data removed]",
      "text/plain": [
       "<Figure size 432x288 with 1 Axes>"
      ]
     },
     "metadata": {},
     "output_type": "display_data"
    }
   ],
   "source": [
    "sns.regplot(x=cities['Latitude'],y=cities['Humidity'])"
   ]
  },
  {
   "cell_type": "code",
   "execution_count": 11,
   "metadata": {},
   "outputs": [
    {
     "data": {
      "text/plain": [
       "<matplotlib.axes._subplots.AxesSubplot at 0x1a31a04eb8>"
      ]
     },
     "execution_count": 11,
     "metadata": {},
     "output_type": "execute_result"
    },
    {
     "data": {
      "image/png": "[encoded data removed]",
      "text/plain": [
       "<Figure size 432x288 with 1 Axes>"
      ]
     },
     "metadata": {},
     "output_type": "display_data"
    }
   ],
   "source": [
    "sns.regplot(x=cities['Latitude'],y=cities['Cloudiness'])"
   ]
  },
  {
   "cell_type": "code",
   "execution_count": 12,
   "metadata": {},
   "outputs": [
    {
     "data": {
      "text/plain": [
       "<matplotlib.axes._subplots.AxesSubplot at 0x1a319c4908>"
      ]
     },
     "execution_count": 12,
     "metadata": {},
     "output_type": "execute_result"
    },
    {
     "data": {
      "image/png": "[encoded data removed]",
      "text/plain": [
       "<Figure size 432x288 with 1 Axes>"
      ]
     },
     "metadata": {},
     "output_type": "display_data"
    }
   ],
   "source": [
    "sns.regplot(x=cities['Latitude'],y=cities['Wind Speed'])"
   ]
  },
  {
   "cell_type": "code",
   "execution_count": null,
   "metadata": {},
   "outputs": [],
   "source": []
  }
 ],
 "metadata": {
  "kernelspec": {
   "display_name": "Python [default]",
   "language": "python",
   "name": "python3"
  },
  "language_info": {
   "codemirror_mode": {
    "name": "ipython",
    "version": 3
   },
   "file_extension": ".py",
   "mimetype": "text/x-python",
   "name": "python",
   "nbconvert_exporter": "python",
   "pygments_lexer": "ipython3",
   "version": "3.6.5"
  }
 },
 "nbformat": 4,
 "nbformat_minor": 2
}
